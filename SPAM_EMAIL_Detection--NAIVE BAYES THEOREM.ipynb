{
 "cells": [
  {
   "attachments": {
    "image.png": {
     "image/png": "[encoded data removed]"
    }
   },
   "cell_type": "markdown",
   "id": "144a35ed",
   "metadata": {},
   "source": [
    "![image.png](attachment:image.png)"
   ]
  },
  {
   "cell_type": "code",
   "execution_count": null,
   "id": "96241a8e",
   "metadata": {},
   "outputs": [],
   "source": []
  },
  {
   "cell_type": "markdown",
   "id": "2be910bd",
   "metadata": {},
   "source": [
    "# 🎯About Dataset:\n",
    "The \"spam\" dataset typically refers to a collection of text messages or emails that are labeled as either \"spam\" (unsolicited and often\n",
    "unwanted messages) or \"ham\" (legitimate messages). This dataset is commonly used for training and evaluating machine learning\n",
    "models for spam detection or text classification tasks. The dataset provides a labeled set of examples that helps algorithms learn to\n",
    "distinguish between spam and non-spam messages based on their content."
   ]
  },
  {
   "cell_type": "markdown",
   "id": "3d37695f",
   "metadata": {},
   "source": [
    "# 🎯Models used:\n",
    "## Gaussian Naive Bayes (GaussianNB):\n",
    "Gaussian Naive Bayes is a probabilistic classification algorithm that assumes the features to be normally distributed. It's particularly\n",
    "useful for continuous or numerical data. By modeling the data's distribution using Gaussian (normal) distribution, GaussianNB\n",
    "calculates the likelihood of a given class label based on the observed feature values, making it a simple yet effective choice for\n",
    "classification tasks involving continuous features.\n",
    "## Bernoulli Naive Bayes (BernoulliNB):\n",
    "Bernoulli Naive Bayes is a variation of the Naive Bayes algorithm that's suitable for binary or boolean features, often representing\n",
    "presence or absence of certain attributes. It assumes that features are binary and computes probabilities based on how frequently\n",
    "each feature occurs for each class. BernoulliNB is often used in text classification tasks where features indicate the presence or\n",
    "absence of specific words in a document, resulting in a sparse binary matrix.\n",
    "## Multinomial Naive Bayes (MultinomialNB):\n",
    "Multinomial Naive Bayes is designed for discrete data, typically in the form of count-based features like word frequencies in text data.\n",
    "It's a common choice for text classification, where features are often represented as counts or frequencies of words. MultinomialNB\n",
    "works by estimating the probability of observing a specific feature given a class label, and then combines these probabilities to\n",
    "determine the most likely class label for a given set of features."
   ]
  },
  {
   "cell_type": "markdown",
   "id": "6299a379",
   "metadata": {},
   "source": [
    "# 🎯Importing necessary Libraries"
   ]
  },
  {
   "cell_type": "code",
   "execution_count": 6,
   "id": "8331e99e",
   "metadata": {},
   "outputs": [],
   "source": [
    "import pandas as pd\n",
    "import numpy as np\n",
    "import seaborn as sns\n",
    "import matplotlib.pyplot as plt\n",
    "sns.set()\n",
    "%matplotlib inline\n",
    "import warnings\n",
    "warnings.filterwarnings('ignore')"
   ]
  },
  {
   "cell_type": "markdown",
   "id": "5885131b",
   "metadata": {},
   "source": [
    "# 🎯Loading and Reading Dataset"
   ]
  },
  {
   "cell_type": "code",
   "execution_count": 3,
   "id": "a9494a55",
   "metadata": {},
   "outputs": [
    {
     "data": {
      "text/html": [
       "<div>\n",
       "<style scoped>\n",
       "    .dataframe tbody tr th:only-of-type {\n",
       "        vertical-align: middle;\n",
       "    }\n",
       "\n",
       "    .dataframe tbody tr th {\n",
       "        vertical-align: top;\n",
       "    }\n",
       "\n",
       "    .dataframe thead th {\n",
       "        text-align: right;\n",
       "    }\n",
       "</style>\n",
       "<table border=\"1\" class=\"dataframe\">\n",
       "  <thead>\n",
       "    <tr style=\"text-align: right;\">\n",
       "      <th></th>\n",
       "      <th>label</th>\n",
       "      <th>message</th>\n",
       "      <th>length</th>\n",
       "      <th>punct</th>\n",
       "    </tr>\n",
       "  </thead>\n",
       "  <tbody>\n",
       "    <tr>\n",
       "      <th>0</th>\n",
       "      <td>ham</td>\n",
       "      <td>Go until jurong point, crazy.. Available only ...</td>\n",
       "      <td>111</td>\n",
       "      <td>9</td>\n",
       "    </tr>\n",
       "    <tr>\n",
       "      <th>1</th>\n",
       "      <td>ham</td>\n",
       "      <td>Ok lar... Joking wif u oni...</td>\n",
       "      <td>29</td>\n",
       "      <td>6</td>\n",
       "    </tr>\n",
       "    <tr>\n",
       "      <th>2</th>\n",
       "      <td>spam</td>\n",
       "      <td>Free entry in 2 a wkly comp to win FA Cup fina...</td>\n",
       "      <td>155</td>\n",
       "      <td>6</td>\n",
       "    </tr>\n",
       "    <tr>\n",
       "      <th>3</th>\n",
       "      <td>ham</td>\n",
       "      <td>U dun say so early hor... U c already then say...</td>\n",
       "      <td>49</td>\n",
       "      <td>6</td>\n",
       "    </tr>\n",
       "    <tr>\n",
       "      <th>4</th>\n",
       "      <td>ham</td>\n",
       "      <td>Nah I don't think he goes to usf, he lives aro...</td>\n",
       "      <td>61</td>\n",
       "      <td>2</td>\n",
       "    </tr>\n",
       "    <tr>\n",
       "      <th>5</th>\n",
       "      <td>spam</td>\n",
       "      <td>FreeMsg Hey there darling it's been 3 week's n...</td>\n",
       "      <td>147</td>\n",
       "      <td>8</td>\n",
       "    </tr>\n",
       "    <tr>\n",
       "      <th>6</th>\n",
       "      <td>ham</td>\n",
       "      <td>Even my brother is not like to speak with me. ...</td>\n",
       "      <td>77</td>\n",
       "      <td>2</td>\n",
       "    </tr>\n",
       "    <tr>\n",
       "      <th>7</th>\n",
       "      <td>ham</td>\n",
       "      <td>As per your request 'Melle Melle (Oru Minnamin...</td>\n",
       "      <td>160</td>\n",
       "      <td>6</td>\n",
       "    </tr>\n",
       "    <tr>\n",
       "      <th>8</th>\n",
       "      <td>spam</td>\n",
       "      <td>WINNER!! As a valued network customer you have...</td>\n",
       "      <td>157</td>\n",
       "      <td>6</td>\n",
       "    </tr>\n",
       "    <tr>\n",
       "      <th>9</th>\n",
       "      <td>spam</td>\n",
       "      <td>Had your mobile 11 months or more? U R entitle...</td>\n",
       "      <td>154</td>\n",
       "      <td>2</td>\n",
       "    </tr>\n",
       "  </tbody>\n",
       "</table>\n",
       "</div>"
      ],
      "text/plain": [
       "  label                                            message  length  punct\n",
       "0   ham  Go until jurong point, crazy.. Available only ...     111      9\n",
       "1   ham                      Ok lar... Joking wif u oni...      29      6\n",
       "2  spam  Free entry in 2 a wkly comp to win FA Cup fina...     155      6\n",
       "3   ham  U dun say so early hor... U c already then say...      49      6\n",
       "4   ham  Nah I don't think he goes to usf, he lives aro...      61      2\n",
       "5  spam  FreeMsg Hey there darling it's been 3 week's n...     147      8\n",
       "6   ham  Even my brother is not like to speak with me. ...      77      2\n",
       "7   ham  As per your request 'Melle Melle (Oru Minnamin...     160      6\n",
       "8  spam  WINNER!! As a valued network customer you have...     157      6\n",
       "9  spam  Had your mobile 11 months or more? U R entitle...     154      2"
      ]
     },
     "execution_count": 3,
     "metadata": {},
     "output_type": "execute_result"
    }
   ],
   "source": [
    "dataset ='Spam.tsv'\n",
    "df = pd.read_csv(dataset, sep = '\\t')\n",
    "df.head(10)"
   ]
  },
  {
   "cell_type": "markdown",
   "id": "a83dcb34",
   "metadata": {},
   "source": [
    "## 🎯Statistical Analysis of dataset"
   ]
  },
  {
   "cell_type": "code",
   "execution_count": 7,
   "id": "d605f2ae",
   "metadata": {},
   "outputs": [
    {
     "data": {
      "text/html": [
       "<div>\n",
       "<style scoped>\n",
       "    .dataframe tbody tr th:only-of-type {\n",
       "        vertical-align: middle;\n",
       "    }\n",
       "\n",
       "    .dataframe tbody tr th {\n",
       "        vertical-align: top;\n",
       "    }\n",
       "\n",
       "    .dataframe thead th {\n",
       "        text-align: right;\n",
       "    }\n",
       "</style>\n",
       "<table border=\"1\" class=\"dataframe\">\n",
       "  <thead>\n",
       "    <tr style=\"text-align: right;\">\n",
       "      <th></th>\n",
       "      <th>length</th>\n",
       "      <th>punct</th>\n",
       "    </tr>\n",
       "  </thead>\n",
       "  <tbody>\n",
       "    <tr>\n",
       "      <th>count</th>\n",
       "      <td>5572.000000</td>\n",
       "      <td>5572.000000</td>\n",
       "    </tr>\n",
       "    <tr>\n",
       "      <th>mean</th>\n",
       "      <td>80.489950</td>\n",
       "      <td>4.177495</td>\n",
       "    </tr>\n",
       "    <tr>\n",
       "      <th>std</th>\n",
       "      <td>59.942907</td>\n",
       "      <td>4.623919</td>\n",
       "    </tr>\n",
       "    <tr>\n",
       "      <th>min</th>\n",
       "      <td>2.000000</td>\n",
       "      <td>0.000000</td>\n",
       "    </tr>\n",
       "    <tr>\n",
       "      <th>25%</th>\n",
       "      <td>36.000000</td>\n",
       "      <td>2.000000</td>\n",
       "    </tr>\n",
       "    <tr>\n",
       "      <th>50%</th>\n",
       "      <td>62.000000</td>\n",
       "      <td>3.000000</td>\n",
       "    </tr>\n",
       "    <tr>\n",
       "      <th>75%</th>\n",
       "      <td>122.000000</td>\n",
       "      <td>6.000000</td>\n",
       "    </tr>\n",
       "    <tr>\n",
       "      <th>max</th>\n",
       "      <td>910.000000</td>\n",
       "      <td>133.000000</td>\n",
       "    </tr>\n",
       "  </tbody>\n",
       "</table>\n",
       "</div>"
      ],
      "text/plain": [
       "            length        punct\n",
       "count  5572.000000  5572.000000\n",
       "mean     80.489950     4.177495\n",
       "std      59.942907     4.623919\n",
       "min       2.000000     0.000000\n",
       "25%      36.000000     2.000000\n",
       "50%      62.000000     3.000000\n",
       "75%     122.000000     6.000000\n",
       "max     910.000000   133.000000"
      ]
     },
     "execution_count": 7,
     "metadata": {},
     "output_type": "execute_result"
    }
   ],
   "source": [
    "df.describe()"
   ]
  },
  {
   "cell_type": "markdown",
   "id": "49dbe5c6",
   "metadata": {},
   "source": [
    "# 🎯Information about Data"
   ]
  },
  {
   "cell_type": "code",
   "execution_count": 5,
   "id": "650e807b",
   "metadata": {},
   "outputs": [
    {
     "name": "stdout",
     "output_type": "stream",
     "text": [
      "<class 'pandas.core.frame.DataFrame'>\n",
      "RangeIndex: 5572 entries, 0 to 5571\n",
      "Data columns (total 4 columns):\n",
      " #   Column   Non-Null Count  Dtype \n",
      "---  ------   --------------  ----- \n",
      " 0   label    5572 non-null   object\n",
      " 1   message  5572 non-null   object\n",
      " 2   length   5572 non-null   int64 \n",
      " 3   punct    5572 non-null   int64 \n",
      "dtypes: int64(2), object(2)\n",
      "memory usage: 174.2+ KB\n"
     ]
    }
   ],
   "source": [
    "df.info()"
   ]
  },
  {
   "cell_type": "markdown",
   "id": "1dc4d840",
   "metadata": {},
   "source": [
    "### 👉-No missing values"
   ]
  },
  {
   "cell_type": "markdown",
   "id": "fcca8da2",
   "metadata": {},
   "source": [
    "## 🎯Imbalance data check"
   ]
  },
  {
   "cell_type": "code",
   "execution_count": 8,
   "id": "f29ae715",
   "metadata": {},
   "outputs": [
    {
     "data": {
      "text/plain": [
       "ham     4825\n",
       "spam     747\n",
       "Name: label, dtype: int64"
      ]
     },
     "execution_count": 8,
     "metadata": {},
     "output_type": "execute_result"
    }
   ],
   "source": [
    "df['label'].value_counts()"
   ]
  },
  {
   "cell_type": "code",
   "execution_count": 9,
   "id": "f1af3227",
   "metadata": {},
   "outputs": [
    {
     "data": {
      "text/plain": [
       "ham     86.593683\n",
       "spam    13.406317\n",
       "Name: label, dtype: float64"
      ]
     },
     "execution_count": 9,
     "metadata": {},
     "output_type": "execute_result"
    }
   ],
   "source": [
    "df['label'].value_counts()/len(df)*100"
   ]
  },
  {
   "cell_type": "markdown",
   "id": "bd625993",
   "metadata": {},
   "source": [
    "### 📌 Imbalance data as Majiority>2*Minority"
   ]
  },
  {
   "cell_type": "code",
   "execution_count": 10,
   "id": "1e2697b2",
   "metadata": {},
   "outputs": [
    {
     "data": {
      "image/png": "[encoded data removed]",
      "text/plain": [
       "<Figure size 400x400 with 1 Axes>"
      ]
     },
     "metadata": {},
     "output_type": "display_data"
    }
   ],
   "source": [
    "plt.style.use('dark_background')\n",
    "plt.figure(figsize = (4,4))\n",
    "ax = sns.countplot(x= df.label, data= df, palette ='husl')\n",
    "ax.set_title('Spam or Ham')\n",
    "plt.show()"
   ]
  },
  {
   "cell_type": "code",
   "execution_count": 16,
   "id": "f758ddb8",
   "metadata": {},
   "outputs": [
    {
     "name": "stdout",
     "output_type": "stream",
     "text": [
      "ham     4825\n",
      "spam     747\n",
      "Name: label, dtype: int64\n"
     ]
    },
    {
     "data": {
      "image/png": "[encoded data removed]",
      "text/plain": [
       "<Figure size 640x480 with 1 Axes>"
      ]
     },
     "metadata": {},
     "output_type": "display_data"
    }
   ],
   "source": [
    "label_value_counts = df.label.value_counts()\n",
    "print(label_value_counts)\n",
    "labels = ['Ham', 'Spam']\n",
    "colors =['blue','red']\n",
    "plt.pie(label_value_counts,autopct='%1.2f%%',labels = labels, colors=colors)\n",
    "plt.show()"
   ]
  },
  {
   "cell_type": "markdown",
   "id": "c7681adf",
   "metadata": {},
   "source": [
    "## 👉-Balancing data"
   ]
  },
  {
   "cell_type": "code",
   "execution_count": 22,
   "id": "8acde4fa",
   "metadata": {},
   "outputs": [],
   "source": [
    "ham=df[df['label']=='ham']\n",
    "spam1=df[df['label']=='spam']"
   ]
  },
  {
   "cell_type": "code",
   "execution_count": 24,
   "id": "74795e5a",
   "metadata": {},
   "outputs": [
    {
     "name": "stdout",
     "output_type": "stream",
     "text": [
      "(4825, 4)\n",
      "(747, 4)\n"
     ]
    }
   ],
   "source": [
    "print(ham.shape)\n",
    "print(spam1.shape)"
   ]
  },
  {
   "cell_type": "markdown",
   "id": "e5717628",
   "metadata": {},
   "source": [
    "### OVERSAMPLING"
   ]
  },
  {
   "cell_type": "code",
   "execution_count": 25,
   "id": "0bfe5af1",
   "metadata": {},
   "outputs": [
    {
     "data": {
      "text/html": [
       "<div>\n",
       "<style scoped>\n",
       "    .dataframe tbody tr th:only-of-type {\n",
       "        vertical-align: middle;\n",
       "    }\n",
       "\n",
       "    .dataframe tbody tr th {\n",
       "        vertical-align: top;\n",
       "    }\n",
       "\n",
       "    .dataframe thead th {\n",
       "        text-align: right;\n",
       "    }\n",
       "</style>\n",
       "<table border=\"1\" class=\"dataframe\">\n",
       "  <thead>\n",
       "    <tr style=\"text-align: right;\">\n",
       "      <th></th>\n",
       "      <th>label</th>\n",
       "      <th>message</th>\n",
       "      <th>length</th>\n",
       "      <th>punct</th>\n",
       "    </tr>\n",
       "  </thead>\n",
       "  <tbody>\n",
       "    <tr>\n",
       "      <th>4797</th>\n",
       "      <td>spam</td>\n",
       "      <td>URGENT This is our 2nd attempt to contact U. Y...</td>\n",
       "      <td>135</td>\n",
       "      <td>2</td>\n",
       "    </tr>\n",
       "  </tbody>\n",
       "</table>\n",
       "</div>"
      ],
      "text/plain": [
       "     label                                            message  length  punct\n",
       "4797  spam  URGENT This is our 2nd attempt to contact U. Y...     135      2"
      ]
     },
     "execution_count": 25,
     "metadata": {},
     "output_type": "execute_result"
    }
   ],
   "source": [
    "spam1.sample()"
   ]
  },
  {
   "cell_type": "code",
   "execution_count": 26,
   "id": "091b0ed6",
   "metadata": {},
   "outputs": [
    {
     "data": {
      "text/html": [
       "<div>\n",
       "<style scoped>\n",
       "    .dataframe tbody tr th:only-of-type {\n",
       "        vertical-align: middle;\n",
       "    }\n",
       "\n",
       "    .dataframe tbody tr th {\n",
       "        vertical-align: top;\n",
       "    }\n",
       "\n",
       "    .dataframe thead th {\n",
       "        text-align: right;\n",
       "    }\n",
       "</style>\n",
       "<table border=\"1\" class=\"dataframe\">\n",
       "  <thead>\n",
       "    <tr style=\"text-align: right;\">\n",
       "      <th></th>\n",
       "      <th>label</th>\n",
       "      <th>message</th>\n",
       "      <th>length</th>\n",
       "      <th>punct</th>\n",
       "    </tr>\n",
       "  </thead>\n",
       "  <tbody>\n",
       "    <tr>\n",
       "      <th>869</th>\n",
       "      <td>spam</td>\n",
       "      <td>Hello. We need some posh birds and chaps to us...</td>\n",
       "      <td>134</td>\n",
       "      <td>4</td>\n",
       "    </tr>\n",
       "    <tr>\n",
       "      <th>4256</th>\n",
       "      <td>spam</td>\n",
       "      <td>Block Breaker now comes in deluxe format with ...</td>\n",
       "      <td>156</td>\n",
       "      <td>2</td>\n",
       "    </tr>\n",
       "  </tbody>\n",
       "</table>\n",
       "</div>"
      ],
      "text/plain": [
       "     label                                            message  length  punct\n",
       "869   spam  Hello. We need some posh birds and chaps to us...     134      4\n",
       "4256  spam  Block Breaker now comes in deluxe format with ...     156      2"
      ]
     },
     "execution_count": 26,
     "metadata": {},
     "output_type": "execute_result"
    }
   ],
   "source": [
    "spam1.sample(2)"
   ]
  },
  {
   "cell_type": "code",
   "execution_count": 27,
   "id": "069b1ae4",
   "metadata": {},
   "outputs": [],
   "source": [
    "spam=spam1.sample(ham.shape[0],replace=True)"
   ]
  },
  {
   "cell_type": "code",
   "execution_count": 29,
   "id": "470608f4",
   "metadata": {},
   "outputs": [
    {
     "name": "stdout",
     "output_type": "stream",
     "text": [
      "Before sampling:\n",
      "Ham: (4825, 4)\n",
      "Spam: (747, 4)\n",
      "\n",
      "After sampling:\n",
      "Ham: (4825, 4)\n",
      "Spam: (4825, 4)\n"
     ]
    }
   ],
   "source": [
    "print('Before sampling:')\n",
    "print('Ham:',ham.shape)\n",
    "print('Spam:',spam1.shape)\n",
    "print()\n",
    "print('After sampling:')\n",
    "print('Ham:',ham.shape)\n",
    "print('Spam:',spam.shape)"
   ]
  },
  {
   "cell_type": "code",
   "execution_count": 30,
   "id": "0f35b516",
   "metadata": {},
   "outputs": [],
   "source": [
    "data=ham.append(spam,ignore_index=True)"
   ]
  },
  {
   "cell_type": "code",
   "execution_count": 31,
   "id": "c741d4e2",
   "metadata": {},
   "outputs": [
    {
     "data": {
      "text/html": [
       "<div>\n",
       "<style scoped>\n",
       "    .dataframe tbody tr th:only-of-type {\n",
       "        vertical-align: middle;\n",
       "    }\n",
       "\n",
       "    .dataframe tbody tr th {\n",
       "        vertical-align: top;\n",
       "    }\n",
       "\n",
       "    .dataframe thead th {\n",
       "        text-align: right;\n",
       "    }\n",
       "</style>\n",
       "<table border=\"1\" class=\"dataframe\">\n",
       "  <thead>\n",
       "    <tr style=\"text-align: right;\">\n",
       "      <th></th>\n",
       "      <th>label</th>\n",
       "      <th>message</th>\n",
       "      <th>length</th>\n",
       "      <th>punct</th>\n",
       "    </tr>\n",
       "  </thead>\n",
       "  <tbody>\n",
       "    <tr>\n",
       "      <th>0</th>\n",
       "      <td>ham</td>\n",
       "      <td>Go until jurong point, crazy.. Available only ...</td>\n",
       "      <td>111</td>\n",
       "      <td>9</td>\n",
       "    </tr>\n",
       "    <tr>\n",
       "      <th>1</th>\n",
       "      <td>ham</td>\n",
       "      <td>Ok lar... Joking wif u oni...</td>\n",
       "      <td>29</td>\n",
       "      <td>6</td>\n",
       "    </tr>\n",
       "    <tr>\n",
       "      <th>2</th>\n",
       "      <td>ham</td>\n",
       "      <td>U dun say so early hor... U c already then say...</td>\n",
       "      <td>49</td>\n",
       "      <td>6</td>\n",
       "    </tr>\n",
       "    <tr>\n",
       "      <th>3</th>\n",
       "      <td>ham</td>\n",
       "      <td>Nah I don't think he goes to usf, he lives aro...</td>\n",
       "      <td>61</td>\n",
       "      <td>2</td>\n",
       "    </tr>\n",
       "    <tr>\n",
       "      <th>4</th>\n",
       "      <td>ham</td>\n",
       "      <td>Even my brother is not like to speak with me. ...</td>\n",
       "      <td>77</td>\n",
       "      <td>2</td>\n",
       "    </tr>\n",
       "    <tr>\n",
       "      <th>...</th>\n",
       "      <td>...</td>\n",
       "      <td>...</td>\n",
       "      <td>...</td>\n",
       "      <td>...</td>\n",
       "    </tr>\n",
       "    <tr>\n",
       "      <th>9645</th>\n",
       "      <td>spam</td>\n",
       "      <td>CLAIRE here am havin borin time &amp; am now alone...</td>\n",
       "      <td>153</td>\n",
       "      <td>3</td>\n",
       "    </tr>\n",
       "    <tr>\n",
       "      <th>9646</th>\n",
       "      <td>spam</td>\n",
       "      <td>ree entry in 2 a weekly comp for a chance to w...</td>\n",
       "      <td>142</td>\n",
       "      <td>6</td>\n",
       "    </tr>\n",
       "    <tr>\n",
       "      <th>9647</th>\n",
       "      <td>spam</td>\n",
       "      <td>You have won ?1,000 cash or a ?2,000 prize! To...</td>\n",
       "      <td>97</td>\n",
       "      <td>11</td>\n",
       "    </tr>\n",
       "    <tr>\n",
       "      <th>9648</th>\n",
       "      <td>spam</td>\n",
       "      <td>UR awarded a City Break and could WIN a £200 S...</td>\n",
       "      <td>149</td>\n",
       "      <td>5</td>\n",
       "    </tr>\n",
       "    <tr>\n",
       "      <th>9649</th>\n",
       "      <td>spam</td>\n",
       "      <td>More people are dogging in your area now. Call...</td>\n",
       "      <td>159</td>\n",
       "      <td>6</td>\n",
       "    </tr>\n",
       "  </tbody>\n",
       "</table>\n",
       "<p>9650 rows × 4 columns</p>\n",
       "</div>"
      ],
      "text/plain": [
       "     label                                            message  length  punct\n",
       "0      ham  Go until jurong point, crazy.. Available only ...     111      9\n",
       "1      ham                      Ok lar... Joking wif u oni...      29      6\n",
       "2      ham  U dun say so early hor... U c already then say...      49      6\n",
       "3      ham  Nah I don't think he goes to usf, he lives aro...      61      2\n",
       "4      ham  Even my brother is not like to speak with me. ...      77      2\n",
       "...    ...                                                ...     ...    ...\n",
       "9645  spam  CLAIRE here am havin borin time & am now alone...     153      3\n",
       "9646  spam  ree entry in 2 a weekly comp for a chance to w...     142      6\n",
       "9647  spam  You have won ?1,000 cash or a ?2,000 prize! To...      97     11\n",
       "9648  spam  UR awarded a City Break and could WIN a £200 S...     149      5\n",
       "9649  spam  More people are dogging in your area now. Call...     159      6\n",
       "\n",
       "[9650 rows x 4 columns]"
      ]
     },
     "execution_count": 31,
     "metadata": {},
     "output_type": "execute_result"
    }
   ],
   "source": [
    "data"
   ]
  },
  {
   "cell_type": "code",
   "execution_count": 32,
   "id": "f22b3da4",
   "metadata": {},
   "outputs": [
    {
     "data": {
      "text/html": [
       "<div>\n",
       "<style scoped>\n",
       "    .dataframe tbody tr th:only-of-type {\n",
       "        vertical-align: middle;\n",
       "    }\n",
       "\n",
       "    .dataframe tbody tr th {\n",
       "        vertical-align: top;\n",
       "    }\n",
       "\n",
       "    .dataframe thead th {\n",
       "        text-align: right;\n",
       "    }\n",
       "</style>\n",
       "<table border=\"1\" class=\"dataframe\">\n",
       "  <thead>\n",
       "    <tr style=\"text-align: right;\">\n",
       "      <th></th>\n",
       "      <th>label</th>\n",
       "      <th>message</th>\n",
       "      <th>length</th>\n",
       "      <th>punct</th>\n",
       "    </tr>\n",
       "  </thead>\n",
       "  <tbody>\n",
       "    <tr>\n",
       "      <th>0</th>\n",
       "      <td>ham</td>\n",
       "      <td>Go until jurong point, crazy.. Available only ...</td>\n",
       "      <td>111</td>\n",
       "      <td>9</td>\n",
       "    </tr>\n",
       "    <tr>\n",
       "      <th>1</th>\n",
       "      <td>ham</td>\n",
       "      <td>Ok lar... Joking wif u oni...</td>\n",
       "      <td>29</td>\n",
       "      <td>6</td>\n",
       "    </tr>\n",
       "    <tr>\n",
       "      <th>2</th>\n",
       "      <td>ham</td>\n",
       "      <td>U dun say so early hor... U c already then say...</td>\n",
       "      <td>49</td>\n",
       "      <td>6</td>\n",
       "    </tr>\n",
       "    <tr>\n",
       "      <th>3</th>\n",
       "      <td>ham</td>\n",
       "      <td>Nah I don't think he goes to usf, he lives aro...</td>\n",
       "      <td>61</td>\n",
       "      <td>2</td>\n",
       "    </tr>\n",
       "    <tr>\n",
       "      <th>4</th>\n",
       "      <td>ham</td>\n",
       "      <td>Even my brother is not like to speak with me. ...</td>\n",
       "      <td>77</td>\n",
       "      <td>2</td>\n",
       "    </tr>\n",
       "  </tbody>\n",
       "</table>\n",
       "</div>"
      ],
      "text/plain": [
       "  label                                            message  length  punct\n",
       "0   ham  Go until jurong point, crazy.. Available only ...     111      9\n",
       "1   ham                      Ok lar... Joking wif u oni...      29      6\n",
       "2   ham  U dun say so early hor... U c already then say...      49      6\n",
       "3   ham  Nah I don't think he goes to usf, he lives aro...      61      2\n",
       "4   ham  Even my brother is not like to speak with me. ...      77      2"
      ]
     },
     "execution_count": 32,
     "metadata": {},
     "output_type": "execute_result"
    }
   ],
   "source": [
    "data.head()"
   ]
  },
  {
   "cell_type": "code",
   "execution_count": 33,
   "id": "07218d31",
   "metadata": {},
   "outputs": [
    {
     "data": {
      "text/html": [
       "<div>\n",
       "<style scoped>\n",
       "    .dataframe tbody tr th:only-of-type {\n",
       "        vertical-align: middle;\n",
       "    }\n",
       "\n",
       "    .dataframe tbody tr th {\n",
       "        vertical-align: top;\n",
       "    }\n",
       "\n",
       "    .dataframe thead th {\n",
       "        text-align: right;\n",
       "    }\n",
       "</style>\n",
       "<table border=\"1\" class=\"dataframe\">\n",
       "  <thead>\n",
       "    <tr style=\"text-align: right;\">\n",
       "      <th></th>\n",
       "      <th>label</th>\n",
       "      <th>message</th>\n",
       "      <th>length</th>\n",
       "      <th>punct</th>\n",
       "    </tr>\n",
       "  </thead>\n",
       "  <tbody>\n",
       "    <tr>\n",
       "      <th>9645</th>\n",
       "      <td>spam</td>\n",
       "      <td>CLAIRE here am havin borin time &amp; am now alone...</td>\n",
       "      <td>153</td>\n",
       "      <td>3</td>\n",
       "    </tr>\n",
       "    <tr>\n",
       "      <th>9646</th>\n",
       "      <td>spam</td>\n",
       "      <td>ree entry in 2 a weekly comp for a chance to w...</td>\n",
       "      <td>142</td>\n",
       "      <td>6</td>\n",
       "    </tr>\n",
       "    <tr>\n",
       "      <th>9647</th>\n",
       "      <td>spam</td>\n",
       "      <td>You have won ?1,000 cash or a ?2,000 prize! To...</td>\n",
       "      <td>97</td>\n",
       "      <td>11</td>\n",
       "    </tr>\n",
       "    <tr>\n",
       "      <th>9648</th>\n",
       "      <td>spam</td>\n",
       "      <td>UR awarded a City Break and could WIN a £200 S...</td>\n",
       "      <td>149</td>\n",
       "      <td>5</td>\n",
       "    </tr>\n",
       "    <tr>\n",
       "      <th>9649</th>\n",
       "      <td>spam</td>\n",
       "      <td>More people are dogging in your area now. Call...</td>\n",
       "      <td>159</td>\n",
       "      <td>6</td>\n",
       "    </tr>\n",
       "  </tbody>\n",
       "</table>\n",
       "</div>"
      ],
      "text/plain": [
       "     label                                            message  length  punct\n",
       "9645  spam  CLAIRE here am havin borin time & am now alone...     153      3\n",
       "9646  spam  ree entry in 2 a weekly comp for a chance to w...     142      6\n",
       "9647  spam  You have won ?1,000 cash or a ?2,000 prize! To...      97     11\n",
       "9648  spam  UR awarded a City Break and could WIN a £200 S...     149      5\n",
       "9649  spam  More people are dogging in your area now. Call...     159      6"
      ]
     },
     "execution_count": 33,
     "metadata": {},
     "output_type": "execute_result"
    }
   ],
   "source": [
    "data.tail()"
   ]
  },
  {
   "cell_type": "code",
   "execution_count": 27,
   "id": "5e19a7dc",
   "metadata": {},
   "outputs": [
    {
     "data": {
      "text/plain": [
       "(9650, 4)"
      ]
     },
     "execution_count": 27,
     "metadata": {},
     "output_type": "execute_result"
    }
   ],
   "source": [
    "data.shape"
   ]
  },
  {
   "cell_type": "markdown",
   "id": "bcaf45d5",
   "metadata": {},
   "source": [
    "## 🎯Visualization by using ham and spam dataset"
   ]
  },
  {
   "cell_type": "code",
   "execution_count": 30,
   "id": "a5c6db20",
   "metadata": {},
   "outputs": [
    {
     "data": {
      "image/png": "[encoded data removed]",
      "text/plain": [
       "<Figure size 640x480 with 1 Axes>"
      ]
     },
     "metadata": {},
     "output_type": "display_data"
    }
   ],
   "source": [
    "plt.hist(data[data['label']=='ham']['length'],bins=100,alpha=0.8,color='red')\n",
    "plt.hist(data[data['label']=='spam']['length'],bins=100,alpha=0.8)\n",
    "plt.show()"
   ]
  },
  {
   "cell_type": "code",
   "execution_count": 31,
   "id": "901027fc",
   "metadata": {},
   "outputs": [
    {
     "data": {
      "image/png": "[encoded data removed]",
      "text/plain": [
       "<Figure size 640x480 with 1 Axes>"
      ]
     },
     "metadata": {},
     "output_type": "display_data"
    }
   ],
   "source": [
    "plt.hist(data[data['label']=='ham']['punct'],bins=100,alpha=0.8,color='red')\n",
    "plt.hist(data[data['label']=='spam']['punct'],bins=100,alpha=0.8)\n",
    "plt.show()"
   ]
  },
  {
   "cell_type": "markdown",
   "id": "f07a019f",
   "metadata": {},
   "source": [
    "### 📌Both length and punctuation features of ham and spam are overridding so can't differentiate them based on length and punct"
   ]
  },
  {
   "cell_type": "markdown",
   "id": "7799be48",
   "metadata": {},
   "source": [
    "# 🎯Encoding:"
   ]
  },
  {
   "cell_type": "markdown",
   "id": "14d2bee1",
   "metadata": {},
   "source": [
    "## 🎯BAG OF WORDS:\n",
    "- Machine learning models require numerical data as input. We call these numerical representations “vectors”. So if you’re working with text you’ll need to convert the text into a vector before feeding it to a model..We call it a bag of words to emphasize the fact that the order of words is not taken into account."
   ]
  },
  {
   "cell_type": "code",
   "execution_count": 34,
   "id": "7fd32855",
   "metadata": {},
   "outputs": [],
   "source": [
    "from sklearn.feature_extraction.text import CountVectorizer\n",
    "cv=CountVectorizer()\n",
    "x=cv.fit_transform(data['message']).toarray()"
   ]
  },
  {
   "cell_type": "code",
   "execution_count": 35,
   "id": "a4630679",
   "metadata": {},
   "outputs": [
    {
     "data": {
      "text/plain": [
       "array([[0, 0, 0, ..., 0, 0, 0],\n",
       "       [0, 0, 0, ..., 0, 0, 0],\n",
       "       [0, 0, 0, ..., 0, 0, 0],\n",
       "       ...,\n",
       "       [0, 2, 0, ..., 0, 0, 0],\n",
       "       [0, 0, 0, ..., 0, 0, 0],\n",
       "       [0, 0, 0, ..., 0, 0, 0]], dtype=int64)"
      ]
     },
     "execution_count": 35,
     "metadata": {},
     "output_type": "execute_result"
    }
   ],
   "source": [
    "x"
   ]
  },
  {
   "cell_type": "code",
   "execution_count": 36,
   "id": "090a463b",
   "metadata": {},
   "outputs": [
    {
     "data": {
      "text/plain": [
       "(9650, 8713)"
      ]
     },
     "execution_count": 36,
     "metadata": {},
     "output_type": "execute_result"
    }
   ],
   "source": [
    "pd.DataFrame(x).shape"
   ]
  },
  {
   "cell_type": "code",
   "execution_count": 37,
   "id": "7db91c72",
   "metadata": {},
   "outputs": [
    {
     "data": {
      "text/html": [
       "<div>\n",
       "<style scoped>\n",
       "    .dataframe tbody tr th:only-of-type {\n",
       "        vertical-align: middle;\n",
       "    }\n",
       "\n",
       "    .dataframe tbody tr th {\n",
       "        vertical-align: top;\n",
       "    }\n",
       "\n",
       "    .dataframe thead th {\n",
       "        text-align: right;\n",
       "    }\n",
       "</style>\n",
       "<table border=\"1\" class=\"dataframe\">\n",
       "  <thead>\n",
       "    <tr style=\"text-align: right;\">\n",
       "      <th></th>\n",
       "      <th>0</th>\n",
       "      <th>1</th>\n",
       "      <th>2</th>\n",
       "      <th>3</th>\n",
       "      <th>4</th>\n",
       "      <th>5</th>\n",
       "      <th>6</th>\n",
       "      <th>7</th>\n",
       "      <th>8</th>\n",
       "      <th>9</th>\n",
       "      <th>...</th>\n",
       "      <th>8703</th>\n",
       "      <th>8704</th>\n",
       "      <th>8705</th>\n",
       "      <th>8706</th>\n",
       "      <th>8707</th>\n",
       "      <th>8708</th>\n",
       "      <th>8709</th>\n",
       "      <th>8710</th>\n",
       "      <th>8711</th>\n",
       "      <th>8712</th>\n",
       "    </tr>\n",
       "  </thead>\n",
       "  <tbody>\n",
       "    <tr>\n",
       "      <th>0</th>\n",
       "      <td>0</td>\n",
       "      <td>0</td>\n",
       "      <td>0</td>\n",
       "      <td>0</td>\n",
       "      <td>0</td>\n",
       "      <td>0</td>\n",
       "      <td>0</td>\n",
       "      <td>0</td>\n",
       "      <td>0</td>\n",
       "      <td>0</td>\n",
       "      <td>...</td>\n",
       "      <td>0</td>\n",
       "      <td>0</td>\n",
       "      <td>0</td>\n",
       "      <td>0</td>\n",
       "      <td>0</td>\n",
       "      <td>0</td>\n",
       "      <td>0</td>\n",
       "      <td>0</td>\n",
       "      <td>0</td>\n",
       "      <td>0</td>\n",
       "    </tr>\n",
       "    <tr>\n",
       "      <th>1</th>\n",
       "      <td>0</td>\n",
       "      <td>0</td>\n",
       "      <td>0</td>\n",
       "      <td>0</td>\n",
       "      <td>0</td>\n",
       "      <td>0</td>\n",
       "      <td>0</td>\n",
       "      <td>0</td>\n",
       "      <td>0</td>\n",
       "      <td>0</td>\n",
       "      <td>...</td>\n",
       "      <td>0</td>\n",
       "      <td>0</td>\n",
       "      <td>0</td>\n",
       "      <td>0</td>\n",
       "      <td>0</td>\n",
       "      <td>0</td>\n",
       "      <td>0</td>\n",
       "      <td>0</td>\n",
       "      <td>0</td>\n",
       "      <td>0</td>\n",
       "    </tr>\n",
       "    <tr>\n",
       "      <th>2</th>\n",
       "      <td>0</td>\n",
       "      <td>0</td>\n",
       "      <td>0</td>\n",
       "      <td>0</td>\n",
       "      <td>0</td>\n",
       "      <td>0</td>\n",
       "      <td>0</td>\n",
       "      <td>0</td>\n",
       "      <td>0</td>\n",
       "      <td>0</td>\n",
       "      <td>...</td>\n",
       "      <td>0</td>\n",
       "      <td>0</td>\n",
       "      <td>0</td>\n",
       "      <td>0</td>\n",
       "      <td>0</td>\n",
       "      <td>0</td>\n",
       "      <td>0</td>\n",
       "      <td>0</td>\n",
       "      <td>0</td>\n",
       "      <td>0</td>\n",
       "    </tr>\n",
       "    <tr>\n",
       "      <th>3</th>\n",
       "      <td>0</td>\n",
       "      <td>0</td>\n",
       "      <td>0</td>\n",
       "      <td>0</td>\n",
       "      <td>0</td>\n",
       "      <td>0</td>\n",
       "      <td>0</td>\n",
       "      <td>0</td>\n",
       "      <td>0</td>\n",
       "      <td>0</td>\n",
       "      <td>...</td>\n",
       "      <td>0</td>\n",
       "      <td>0</td>\n",
       "      <td>0</td>\n",
       "      <td>0</td>\n",
       "      <td>0</td>\n",
       "      <td>0</td>\n",
       "      <td>0</td>\n",
       "      <td>0</td>\n",
       "      <td>0</td>\n",
       "      <td>0</td>\n",
       "    </tr>\n",
       "    <tr>\n",
       "      <th>4</th>\n",
       "      <td>0</td>\n",
       "      <td>0</td>\n",
       "      <td>0</td>\n",
       "      <td>0</td>\n",
       "      <td>0</td>\n",
       "      <td>0</td>\n",
       "      <td>0</td>\n",
       "      <td>0</td>\n",
       "      <td>0</td>\n",
       "      <td>0</td>\n",
       "      <td>...</td>\n",
       "      <td>0</td>\n",
       "      <td>0</td>\n",
       "      <td>0</td>\n",
       "      <td>0</td>\n",
       "      <td>0</td>\n",
       "      <td>0</td>\n",
       "      <td>0</td>\n",
       "      <td>0</td>\n",
       "      <td>0</td>\n",
       "      <td>0</td>\n",
       "    </tr>\n",
       "    <tr>\n",
       "      <th>...</th>\n",
       "      <td>...</td>\n",
       "      <td>...</td>\n",
       "      <td>...</td>\n",
       "      <td>...</td>\n",
       "      <td>...</td>\n",
       "      <td>...</td>\n",
       "      <td>...</td>\n",
       "      <td>...</td>\n",
       "      <td>...</td>\n",
       "      <td>...</td>\n",
       "      <td>...</td>\n",
       "      <td>...</td>\n",
       "      <td>...</td>\n",
       "      <td>...</td>\n",
       "      <td>...</td>\n",
       "      <td>...</td>\n",
       "      <td>...</td>\n",
       "      <td>...</td>\n",
       "      <td>...</td>\n",
       "      <td>...</td>\n",
       "      <td>...</td>\n",
       "    </tr>\n",
       "    <tr>\n",
       "      <th>9645</th>\n",
       "      <td>0</td>\n",
       "      <td>0</td>\n",
       "      <td>0</td>\n",
       "      <td>0</td>\n",
       "      <td>0</td>\n",
       "      <td>0</td>\n",
       "      <td>0</td>\n",
       "      <td>0</td>\n",
       "      <td>0</td>\n",
       "      <td>0</td>\n",
       "      <td>...</td>\n",
       "      <td>0</td>\n",
       "      <td>0</td>\n",
       "      <td>0</td>\n",
       "      <td>0</td>\n",
       "      <td>0</td>\n",
       "      <td>0</td>\n",
       "      <td>0</td>\n",
       "      <td>0</td>\n",
       "      <td>0</td>\n",
       "      <td>0</td>\n",
       "    </tr>\n",
       "    <tr>\n",
       "      <th>9646</th>\n",
       "      <td>0</td>\n",
       "      <td>0</td>\n",
       "      <td>0</td>\n",
       "      <td>0</td>\n",
       "      <td>0</td>\n",
       "      <td>0</td>\n",
       "      <td>0</td>\n",
       "      <td>0</td>\n",
       "      <td>0</td>\n",
       "      <td>0</td>\n",
       "      <td>...</td>\n",
       "      <td>0</td>\n",
       "      <td>0</td>\n",
       "      <td>0</td>\n",
       "      <td>0</td>\n",
       "      <td>0</td>\n",
       "      <td>0</td>\n",
       "      <td>0</td>\n",
       "      <td>0</td>\n",
       "      <td>0</td>\n",
       "      <td>0</td>\n",
       "    </tr>\n",
       "    <tr>\n",
       "      <th>9647</th>\n",
       "      <td>0</td>\n",
       "      <td>2</td>\n",
       "      <td>0</td>\n",
       "      <td>0</td>\n",
       "      <td>0</td>\n",
       "      <td>0</td>\n",
       "      <td>0</td>\n",
       "      <td>0</td>\n",
       "      <td>0</td>\n",
       "      <td>0</td>\n",
       "      <td>...</td>\n",
       "      <td>0</td>\n",
       "      <td>0</td>\n",
       "      <td>0</td>\n",
       "      <td>0</td>\n",
       "      <td>0</td>\n",
       "      <td>0</td>\n",
       "      <td>0</td>\n",
       "      <td>0</td>\n",
       "      <td>0</td>\n",
       "      <td>0</td>\n",
       "    </tr>\n",
       "    <tr>\n",
       "      <th>9648</th>\n",
       "      <td>0</td>\n",
       "      <td>0</td>\n",
       "      <td>0</td>\n",
       "      <td>0</td>\n",
       "      <td>0</td>\n",
       "      <td>0</td>\n",
       "      <td>0</td>\n",
       "      <td>0</td>\n",
       "      <td>0</td>\n",
       "      <td>0</td>\n",
       "      <td>...</td>\n",
       "      <td>0</td>\n",
       "      <td>0</td>\n",
       "      <td>0</td>\n",
       "      <td>0</td>\n",
       "      <td>0</td>\n",
       "      <td>0</td>\n",
       "      <td>0</td>\n",
       "      <td>0</td>\n",
       "      <td>0</td>\n",
       "      <td>0</td>\n",
       "    </tr>\n",
       "    <tr>\n",
       "      <th>9649</th>\n",
       "      <td>0</td>\n",
       "      <td>0</td>\n",
       "      <td>0</td>\n",
       "      <td>0</td>\n",
       "      <td>0</td>\n",
       "      <td>0</td>\n",
       "      <td>0</td>\n",
       "      <td>0</td>\n",
       "      <td>0</td>\n",
       "      <td>0</td>\n",
       "      <td>...</td>\n",
       "      <td>0</td>\n",
       "      <td>0</td>\n",
       "      <td>0</td>\n",
       "      <td>0</td>\n",
       "      <td>0</td>\n",
       "      <td>0</td>\n",
       "      <td>0</td>\n",
       "      <td>0</td>\n",
       "      <td>0</td>\n",
       "      <td>0</td>\n",
       "    </tr>\n",
       "  </tbody>\n",
       "</table>\n",
       "<p>9650 rows × 8713 columns</p>\n",
       "</div>"
      ],
      "text/plain": [
       "      0     1     2     3     4     5     6     7     8     9     ...  8703  \\\n",
       "0        0     0     0     0     0     0     0     0     0     0  ...     0   \n",
       "1        0     0     0     0     0     0     0     0     0     0  ...     0   \n",
       "2        0     0     0     0     0     0     0     0     0     0  ...     0   \n",
       "3        0     0     0     0     0     0     0     0     0     0  ...     0   \n",
       "4        0     0     0     0     0     0     0     0     0     0  ...     0   \n",
       "...    ...   ...   ...   ...   ...   ...   ...   ...   ...   ...  ...   ...   \n",
       "9645     0     0     0     0     0     0     0     0     0     0  ...     0   \n",
       "9646     0     0     0     0     0     0     0     0     0     0  ...     0   \n",
       "9647     0     2     0     0     0     0     0     0     0     0  ...     0   \n",
       "9648     0     0     0     0     0     0     0     0     0     0  ...     0   \n",
       "9649     0     0     0     0     0     0     0     0     0     0  ...     0   \n",
       "\n",
       "      8704  8705  8706  8707  8708  8709  8710  8711  8712  \n",
       "0        0     0     0     0     0     0     0     0     0  \n",
       "1        0     0     0     0     0     0     0     0     0  \n",
       "2        0     0     0     0     0     0     0     0     0  \n",
       "3        0     0     0     0     0     0     0     0     0  \n",
       "4        0     0     0     0     0     0     0     0     0  \n",
       "...    ...   ...   ...   ...   ...   ...   ...   ...   ...  \n",
       "9645     0     0     0     0     0     0     0     0     0  \n",
       "9646     0     0     0     0     0     0     0     0     0  \n",
       "9647     0     0     0     0     0     0     0     0     0  \n",
       "9648     0     0     0     0     0     0     0     0     0  \n",
       "9649     0     0     0     0     0     0     0     0     0  \n",
       "\n",
       "[9650 rows x 8713 columns]"
      ]
     },
     "execution_count": 37,
     "metadata": {},
     "output_type": "execute_result"
    }
   ],
   "source": [
    "pd.DataFrame(x)"
   ]
  },
  {
   "cell_type": "markdown",
   "id": "1d058a42",
   "metadata": {},
   "source": [
    "# 🎯Split data into train and test"
   ]
  },
  {
   "cell_type": "code",
   "execution_count": 38,
   "id": "b94eb217",
   "metadata": {},
   "outputs": [],
   "source": [
    "from sklearn.model_selection import train_test_split\n",
    "x_train,x_test,y_train,y_test=train_test_split(x,data['label'],test_size=0.25,random_state=102,stratify=data['label'])"
   ]
  },
  {
   "cell_type": "markdown",
   "id": "f0096d6a",
   "metadata": {},
   "source": [
    "# 🎯MODEL BUILDING:"
   ]
  },
  {
   "cell_type": "markdown",
   "id": "211e17e8",
   "metadata": {},
   "source": [
    "### Building NAIVE BAYES THEOREM\n",
    "### GAUSSIAN NB\n",
    "### BERNOULLIS NB"
   ]
  },
  {
   "cell_type": "code",
   "execution_count": 39,
   "id": "b3f323f9",
   "metadata": {},
   "outputs": [],
   "source": [
    "from sklearn.naive_bayes import GaussianNB\n",
    "from sklearn.naive_bayes import BernoulliNB"
   ]
  },
  {
   "cell_type": "code",
   "execution_count": 40,
   "id": "e1c0aee2",
   "metadata": {},
   "outputs": [],
   "source": [
    "gnb=GaussianNB()\n",
    "bnb=BernoulliNB()"
   ]
  },
  {
   "cell_type": "code",
   "execution_count": 41,
   "id": "b61600db",
   "metadata": {},
   "outputs": [
    {
     "data": {
      "text/plain": [
       "GaussianNB()"
      ]
     },
     "execution_count": 41,
     "metadata": {},
     "output_type": "execute_result"
    }
   ],
   "source": [
    "gnb.fit(x_train,y_train)"
   ]
  },
  {
   "cell_type": "code",
   "execution_count": 42,
   "id": "9493f033",
   "metadata": {},
   "outputs": [],
   "source": [
    "y_pred_gnb_train=gnb.predict(x_train)\n",
    "y_pred_gnb_test=gnb.predict(x_test)"
   ]
  },
  {
   "cell_type": "code",
   "execution_count": 43,
   "id": "668f5d48",
   "metadata": {},
   "outputs": [
    {
     "data": {
      "text/plain": [
       "array(['ham', 'spam', 'spam', ..., 'ham', 'spam', 'spam'], dtype='<U4')"
      ]
     },
     "execution_count": 43,
     "metadata": {},
     "output_type": "execute_result"
    }
   ],
   "source": [
    "y_pred_gnb_train"
   ]
  },
  {
   "cell_type": "code",
   "execution_count": 44,
   "id": "7a0194ea",
   "metadata": {},
   "outputs": [
    {
     "data": {
      "text/plain": [
       "array(['spam', 'spam', 'spam', ..., 'ham', 'ham', 'ham'], dtype='<U4')"
      ]
     },
     "execution_count": 44,
     "metadata": {},
     "output_type": "execute_result"
    }
   ],
   "source": [
    "y_pred_gnb_test"
   ]
  },
  {
   "cell_type": "code",
   "execution_count": 53,
   "id": "3112977d",
   "metadata": {},
   "outputs": [
    {
     "name": "stdout",
     "output_type": "stream",
     "text": [
      "Confusion_matrix_train: [[3616    2]\n",
      " [ 105 3514]]\n",
      "\n",
      "Confusion_matrix_test: [[1081  126]\n",
      " [   0 1206]]\n",
      "************************************************************\n",
      "classification_report_train:               precision    recall  f1-score   support\n",
      "\n",
      "         ham       1.00      0.93      0.96      3618\n",
      "        spam       0.94      1.00      0.97      3619\n",
      "\n",
      "    accuracy                           0.97      7237\n",
      "   macro avg       0.97      0.97      0.97      7237\n",
      "weighted avg       0.97      0.97      0.97      7237\n",
      "\n",
      "\n",
      "classification_report_test:               precision    recall  f1-score   support\n",
      "\n",
      "         ham       1.00      0.90      0.94      1207\n",
      "        spam       0.91      1.00      0.95      1206\n",
      "\n",
      "    accuracy                           0.95      2413\n",
      "   macro avg       0.95      0.95      0.95      2413\n",
      "weighted avg       0.95      0.95      0.95      2413\n",
      "\n",
      "************************************************************\n",
      "accuracy_score_train: 0.9660080143705956\n",
      "\n",
      "accuracy_score_test: 0.947782842934107\n"
     ]
    }
   ],
   "source": [
    "from sklearn.metrics import confusion_matrix,classification_report,accuracy_score\n",
    "print('Confusion_matrix_train:',confusion_matrix(y_train,y_pred_bnb_train))\n",
    "print()\n",
    "print('Confusion_matrix_test:',confusion_matrix(y_test,y_pred_gnb_test))\n",
    "print(\"*\"*60)\n",
    "print('classification_report_train:',classification_report(y_train,y_pred_gnb_train))\n",
    "print()\n",
    "print('classification_report_test:',classification_report(y_test,y_pred_gnb_test))\n",
    "print(\"*\"*60)\n",
    "print('accuracy_score_train:',accuracy_score(y_train,y_pred_gnb_train))\n",
    "print()\n",
    "print('accuracy_score_test:',accuracy_score(y_test,y_pred_gnb_test))"
   ]
  },
  {
   "cell_type": "code",
   "execution_count": 80,
   "id": "842cdee0",
   "metadata": {},
   "outputs": [],
   "source": [
    "precision_train_gnb_ham=1.00\n",
    "precision_train_gnb_spam=0.94\n",
    "f1_score_train_gnb_ham=0.96\n",
    "f1_score_train_gnb_spam=0.97\n",
    "precision_test_gnb_ham=1.00\n",
    "precision_test_gnb_spam=0.91\n",
    "f1_score_test_gnb_ham=0.94\n",
    "f1_score_test_gnb_spam=0.95"
   ]
  },
  {
   "cell_type": "code",
   "execution_count": 48,
   "id": "6d27fb0d",
   "metadata": {},
   "outputs": [
    {
     "data": {
      "text/plain": [
       "BernoulliNB()"
      ]
     },
     "execution_count": 48,
     "metadata": {},
     "output_type": "execute_result"
    }
   ],
   "source": [
    "bnb.fit(x_train,y_train)"
   ]
  },
  {
   "cell_type": "code",
   "execution_count": 54,
   "id": "c46ad45f",
   "metadata": {},
   "outputs": [],
   "source": [
    "y_pred_bnb_train=bnb.predict(x_train)\n",
    "y_pred_bnb_test=bnb.predict(x_test)"
   ]
  },
  {
   "cell_type": "code",
   "execution_count": 55,
   "id": "990bd45d",
   "metadata": {},
   "outputs": [
    {
     "name": "stdout",
     "output_type": "stream",
     "text": [
      "Confusion_matrix_train: [[3616    2]\n",
      " [ 105 3514]]\n",
      "\n",
      "Confusion_matrix_test: [[1205    2]\n",
      " [  24 1182]]\n",
      "************************************************************\n",
      "classification_report_train:               precision    recall  f1-score   support\n",
      "\n",
      "         ham       0.97      1.00      0.99      3618\n",
      "        spam       1.00      0.97      0.99      3619\n",
      "\n",
      "    accuracy                           0.99      7237\n",
      "   macro avg       0.99      0.99      0.99      7237\n",
      "weighted avg       0.99      0.99      0.99      7237\n",
      "\n",
      "\n",
      "classification_report_test:               precision    recall  f1-score   support\n",
      "\n",
      "         ham       0.98      1.00      0.99      1207\n",
      "        spam       1.00      0.98      0.99      1206\n",
      "\n",
      "    accuracy                           0.99      2413\n",
      "   macro avg       0.99      0.99      0.99      2413\n",
      "weighted avg       0.99      0.99      0.99      2413\n",
      "\n",
      "************************************************************\n",
      "accuracy_score_train: 0.9852148680392427\n",
      "\n",
      "accuracy_score_test: 0.9892250310816411\n"
     ]
    }
   ],
   "source": [
    "from sklearn.metrics import confusion_matrix,classification_report,accuracy_score\n",
    "print('Confusion_matrix_train:',confusion_matrix(y_train,y_pred_bnb_train))\n",
    "print()\n",
    "print('Confusion_matrix_test:',confusion_matrix(y_test,y_pred_bnb_test))\n",
    "print(\"*\"*60)\n",
    "print('classification_report_train:',classification_report(y_train,y_pred_bnb_train))\n",
    "print()\n",
    "print('classification_report_test:',classification_report(y_test,y_pred_bnb_test))\n",
    "print(\"*\"*60)\n",
    "print('accuracy_score_train:',accuracy_score(y_train,y_pred_bnb_train))\n",
    "print()\n",
    "print('accuracy_score_test:',accuracy_score(y_test,y_pred_bnb_test))"
   ]
  },
  {
   "cell_type": "code",
   "execution_count": 56,
   "id": "ddb08f3c",
   "metadata": {},
   "outputs": [
    {
     "name": "stdout",
     "output_type": "stream",
     "text": [
      "Accuracy of the Train data by GaussianNB : 0.9660080143705956\n",
      "===============================================================================================\n",
      "Accuracy of the Test data  by GaussianNB: 0.947782842934107\n",
      "===============================================================================================\n",
      "Accuracy of the Train data by BernoulliNB: 0.9852148680392427\n",
      "===============================================================================================\n",
      "Accuracy of the Test data  by BernoulliNB  : 0.9892250310816411\n"
     ]
    }
   ],
   "source": [
    "print('Accuracy of the Train data by GaussianNB :',accuracy_score(y_train,y_pred_gnb_train))\n",
    "print('===============================================================================================')\n",
    "print('Accuracy of the Test data  by GaussianNB:',accuracy_score(y_test,y_pred_gnb_test))\n",
    "print('===============================================================================================')\n",
    "print('Accuracy of the Train data by BernoulliNB:',accuracy_score(y_train,y_pred_bnb_train))\n",
    "print('===============================================================================================')\n",
    "print('Accuracy of the Test data  by BernoulliNB  :',accuracy_score(y_test,y_pred_bnb_test))"
   ]
  },
  {
   "cell_type": "code",
   "execution_count": 83,
   "id": "ca2edf00",
   "metadata": {},
   "outputs": [],
   "source": [
    "precision_train_bnb_ham=0.97\n",
    "precision_train_bnb_spam=1.00\n",
    "f1_score_train_bnb_ham=0.99\n",
    "f1_score_train_bnb_spam=0.99\n",
    "precision_test_bnb_ham=0.98\n",
    "precision_test_bnb_spam=1.00\n",
    "f1_score_test_bnb_ham=0.99\n",
    "f1_score_test_bnb_spam=0.99"
   ]
  },
  {
   "cell_type": "markdown",
   "id": "a730abd3",
   "metadata": {},
   "source": [
    "### 📌Accuracy of train data by GaussianNB:96.6%\n",
    "### 📌Accuracy of test data by GaussianNB:94.7%\n",
    "### 📌Accuracy of train data by BernoullliNB:98.5%\n",
    "### 📌Accuracy of test data by BernoullliNB:98.3%"
   ]
  },
  {
   "cell_type": "code",
   "execution_count": 62,
   "id": "a3480e81",
   "metadata": {},
   "outputs": [
    {
     "name": "stdout",
     "output_type": "stream",
     "text": [
      "▬ Training Accuracy GaussianNB(CrossValidation), 94.0 %\n",
      "▬ TestAccuracy GaussianNB(CrossValidation), 91.0 %\n",
      "Variance (CrossValidation) : 3.0\n"
     ]
    }
   ],
   "source": [
    "from sklearn.model_selection import cross_val_score\n",
    "CV_train_acc =(cross_val_score(gnb, x_train, y_train, cv =10).mean()).round(2)*100\n",
    "CV_test_acc =(cross_val_score(gnb, x_test, y_test, cv =10).mean()).round(2)*100\n",
    "print(f'▬ Training Accuracy GaussianNB(CrossValidation), {CV_train_acc} %' )\n",
    "print(f'▬ TestAccuracy GaussianNB(CrossValidation), {CV_test_acc} %' )\n",
    "variance_CV = abs(CV_train_acc - CV_test_acc).round(2)\n",
    "print(f'Variance (CrossValidation) : {variance_CV}')\n",
    "if (variance_CV > 9) or (CV_train_acc > 99):\n",
    "    print(f'WARN : The  Model is overfitting')\n",
    "    print()"
   ]
  },
  {
   "cell_type": "code",
   "execution_count": 63,
   "id": "fff67d39",
   "metadata": {},
   "outputs": [
    {
     "name": "stdout",
     "output_type": "stream",
     "text": [
      "▬ Training Accuracy BernoulliNB(CrossValidation), 98.0 %\n",
      "▬ TestAccuracy BernoulliNB(CrossValidation), 97.0 %\n",
      "Variance (CrossValidation) : 1.0\n"
     ]
    }
   ],
   "source": [
    "from sklearn.model_selection import cross_val_score\n",
    "CV_train_acc =(cross_val_score(bnb, x_train, y_train, cv =10).mean()).round(2)*100\n",
    "CV_test_acc =(cross_val_score(bnb, x_test, y_test, cv =10).mean()).round(2)*100\n",
    "print(f'▬ Training Accuracy BernoulliNB(CrossValidation), {CV_train_acc} %' )\n",
    "print(f'▬ TestAccuracy BernoulliNB(CrossValidation), {CV_test_acc} %' )\n",
    "variance_CV = abs(CV_train_acc - CV_test_acc).round(2)\n",
    "print(f'Variance (CrossValidation) : {variance_CV}')\n",
    "if (variance_CV > 9) or (CV_train_acc > 99):\n",
    "    print(f'WARN : The  Model is overfitting')\n",
    "    print()"
   ]
  },
  {
   "cell_type": "markdown",
   "id": "482b44cf",
   "metadata": {},
   "source": [
    "# SUMMARY"
   ]
  },
  {
   "cell_type": "code",
   "execution_count": 89,
   "id": "13c5b9e2",
   "metadata": {},
   "outputs": [
    {
     "data": {
      "text/html": [
       "<div>\n",
       "<style scoped>\n",
       "    .dataframe tbody tr th:only-of-type {\n",
       "        vertical-align: middle;\n",
       "    }\n",
       "\n",
       "    .dataframe tbody tr th {\n",
       "        vertical-align: top;\n",
       "    }\n",
       "\n",
       "    .dataframe thead th {\n",
       "        text-align: right;\n",
       "    }\n",
       "</style>\n",
       "<table border=\"1\" class=\"dataframe\">\n",
       "  <thead>\n",
       "    <tr style=\"text-align: right;\">\n",
       "      <th></th>\n",
       "      <th>Scores</th>\n",
       "      <th>PRECISION_F1</th>\n",
       "    </tr>\n",
       "  </thead>\n",
       "  <tbody>\n",
       "    <tr>\n",
       "      <th>0</th>\n",
       "      <td>precision_test_gnb_ham</td>\n",
       "      <td>1.00</td>\n",
       "    </tr>\n",
       "    <tr>\n",
       "      <th>1</th>\n",
       "      <td>precision_test_gnb_spam</td>\n",
       "      <td>0.91</td>\n",
       "    </tr>\n",
       "    <tr>\n",
       "      <th>2</th>\n",
       "      <td>precision_test_bnb_ham</td>\n",
       "      <td>0.98</td>\n",
       "    </tr>\n",
       "    <tr>\n",
       "      <th>3</th>\n",
       "      <td>precision_test_bnb_spam</td>\n",
       "      <td>1.00</td>\n",
       "    </tr>\n",
       "    <tr>\n",
       "      <th>4</th>\n",
       "      <td>f1_score_test_gnb_ham</td>\n",
       "      <td>0.99</td>\n",
       "    </tr>\n",
       "    <tr>\n",
       "      <th>5</th>\n",
       "      <td>f1_score_test_gnb_spam</td>\n",
       "      <td>0.99</td>\n",
       "    </tr>\n",
       "    <tr>\n",
       "      <th>6</th>\n",
       "      <td>f1_score_test_bnb_ham</td>\n",
       "      <td>0.99</td>\n",
       "    </tr>\n",
       "    <tr>\n",
       "      <th>7</th>\n",
       "      <td>f1_score_test_bnb_spam</td>\n",
       "      <td>0.99</td>\n",
       "    </tr>\n",
       "  </tbody>\n",
       "</table>\n",
       "</div>"
      ],
      "text/plain": [
       "                    Scores  PRECISION_F1\n",
       "0   precision_test_gnb_ham          1.00\n",
       "1  precision_test_gnb_spam          0.91\n",
       "2   precision_test_bnb_ham          0.98\n",
       "3  precision_test_bnb_spam          1.00\n",
       "4    f1_score_test_gnb_ham          0.99\n",
       "5   f1_score_test_gnb_spam          0.99\n",
       "6    f1_score_test_bnb_ham          0.99\n",
       "7   f1_score_test_bnb_spam          0.99"
      ]
     },
     "execution_count": 89,
     "metadata": {},
     "output_type": "execute_result"
    }
   ],
   "source": [
    "list1=[precision_test_gnb_ham,precision_test_gnb_spam,precision_test_bnb_ham,precision_test_bnb_spam,f1_score_test_gnb_ham,f1_score_test_gnb_spam,f1_score_test_bnb_ham,f1_score_test_bnb_spam]\n",
    "list2=['precision_test_gnb_ham','precision_test_gnb_spam','precision_test_bnb_ham','precision_test_bnb_spam','f1_score_test_gnb_ham','f1_score_test_gnb_spam','f1_score_test_bnb_ham','f1_score_test_bnb_spam']\n",
    "summary=pd.DataFrame({'Scores':list2,'PRECISION_F1':list1})\n",
    "summary"
   ]
  },
  {
   "cell_type": "code",
   "execution_count": 90,
   "id": "808e0288",
   "metadata": {},
   "outputs": [
    {
     "name": "stdout",
     "output_type": "stream",
     "text": [
      "AxesSubplot(0.125,0.11;0.775x0.77)\n"
     ]
    },
    {
     "data": {
      "image/png": "[encoded data removed]",
      "text/plain": [
       "<Figure size 640x480 with 1 Axes>"
      ]
     },
     "metadata": {},
     "output_type": "display_data"
    }
   ],
   "source": [
    "chart=sns.barplot(x='PRECISION_F1',y='Scores',data=summary)\n",
    "chart.set_xticklabels(chart.get_xticklabels(),rotation=45)\n",
    "print(chart)"
   ]
  },
  {
   "cell_type": "markdown",
   "id": "cf0797d8",
   "metadata": {},
   "source": [
    "In summary, the analysis shows that BernoulliNB achieved the highest accuracy among the two classifiers, along with excellent\n",
    "precision and a balanced F1-score.\n",
    "GaussianNB but with slightly lower precision, potentially indicating it might be more cautious in labeling messages as spam.\n",
    "It's worth noting that the choice of classifier depends on the specific use case and priorities.\n",
    "(legitimate messages classified as spam) is crucial, BernoulliNB's high precision might be preferred."
   ]
  },
  {
   "cell_type": "code",
   "execution_count": null,
   "id": "ee65dbd8",
   "metadata": {},
   "outputs": [],
   "source": []
  }
 ],
 "metadata": {
  "kernelspec": {
   "display_name": "Python 3 (ipykernel)",
   "language": "python",
   "name": "python3"
  },
  "language_info": {
   "codemirror_mode": {
    "name": "ipython",
    "version": 3
   },
   "file_extension": ".py",
   "mimetype": "text/x-python",
   "name": "python",
   "nbconvert_exporter": "python",
   "pygments_lexer": "ipython3",
   "version": "3.9.13"
  }
 },
 "nbformat": 4,
 "nbformat_minor": 5
}
